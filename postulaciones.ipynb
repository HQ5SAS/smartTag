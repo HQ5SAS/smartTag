{
 "cells": [
  {
   "cell_type": "code",
   "execution_count": 1,
   "metadata": {},
   "outputs": [],
   "source": [
    "import os\n",
    "import numpy as np\n",
    "import pandas as pd\n",
    "from datetime import datetime as dtgit \n",
    "import seaborn as sns\n",
    "from matplotlib import pyplot as plt\n",
    "from matplotlib import style\n",
    "from matplotlib import colors\n",
    "import matplotlib.ticker as ticker"
   ]
  },
  {
   "cell_type": "code",
   "execution_count": null,
   "metadata": {},
   "outputs": [],
   "source": [
    "# creo una función para imprimir el progreso del procesamiento de datos\n",
    "def barra_progreso(actual=0, maxValue = 100):\n",
    "    progreso = int((actual/maxValue)*100)\n",
    "    restante = (100 - progreso)\n",
    "    barra = \"#\"*progreso + \"-\"*restante\n",
    "    text = \"Computing:[\" + barra + \"] \" + str(progreso) + \"% \" + str(actual) + \" de \" + str(maxValue)\n",
    "    print(text)\n",
    "\n",
    "barra_progreso(10, 100)"
   ]
  },
  {
   "cell_type": "code",
   "execution_count": null,
   "metadata": {},
   "outputs": [],
   "source": [
    "mainpath = \"C:/Users/migue/Downloads/\""
   ]
  },
  {
   "cell_type": "code",
   "execution_count": null,
   "metadata": {},
   "outputs": [],
   "source": [
    "filename_candidatos = \"Requisiciones Generadas OV.csv\"\n",
    "fullpath = os.path.join(mainpath, filename_candidatos)\n",
    "candidatos_001 = pd.read_csv(fullpath)\n",
    "display(candidatos_001)"
   ]
  }
 ],
 "metadata": {
  "kernelspec": {
   "display_name": "Python 3.10.6 64-bit",
   "language": "python",
   "name": "python3"
  },
  "language_info": {
   "codemirror_mode": {
    "name": "ipython",
    "version": 3
   },
   "file_extension": ".py",
   "mimetype": "text/x-python",
   "name": "python",
   "nbconvert_exporter": "python",
   "pygments_lexer": "ipython3",
   "version": "3.10.6"
  },
  "orig_nbformat": 4,
  "vscode": {
   "interpreter": {
    "hash": "e8a00227fbbeabfee3e4c7eae78ea7efab3aaaa5b33f3ff28071daefabaeab66"
   }
  }
 },
 "nbformat": 4,
 "nbformat_minor": 2
}

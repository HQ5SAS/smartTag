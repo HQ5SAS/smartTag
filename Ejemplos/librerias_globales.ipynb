{
 "cells": [
  {
   "cell_type": "code",
   "execution_count": 1,
   "metadata": {},
   "outputs": [],
   "source": [
    "def func_accents(dataframe,var_obj:str):\n",
    "  \"\"\" Esta función remueve los non-ASCII caracteres de una pandas series (dataframe) \"\"\"\n",
    "  y = dataframe[var_obj].str.encode('ascii', 'ignore').str.decode('ascii')\n",
    "  return y"
   ]
  },
  {
   "cell_type": "code",
   "execution_count": 2,
   "metadata": {},
   "outputs": [
    {
     "name": "stdout",
     "output_type": "stream",
     "text": [
      "Computing:[##########------------------------------------------------------------------------------------------] 10% 10 de 100\n"
     ]
    }
   ],
   "source": [
    "# creo una función para imprimir el progreso del procesamiento de datos\n",
    "def barra_progreso(actual=0, maxValue = 100):\n",
    "    progreso = int((actual/maxValue)*100)\n",
    "    restante = (100 - progreso)\n",
    "    barra = \"#\"*progreso + \"-\"*restante\n",
    "    text = \"Computing:[\" + barra + \"] \" + str(progreso) + \"% \" + str(actual) + \" de \" + str(maxValue)\n",
    "    print(text)\n",
    "\n",
    "#Test de funcionamiento\n",
    "barra_progreso(10, 100)"
   ]
  }
 ],
 "metadata": {
  "kernelspec": {
   "display_name": "Python 3.10.8 64-bit (microsoft store)",
   "language": "python",
   "name": "python3"
  },
  "language_info": {
   "codemirror_mode": {
    "name": "ipython",
    "version": 3
   },
   "file_extension": ".py",
   "mimetype": "text/x-python",
   "name": "python",
   "nbconvert_exporter": "python",
   "pygments_lexer": "ipython3",
   "version": "3.10.8"
  },
  "orig_nbformat": 4,
  "vscode": {
   "interpreter": {
    "hash": "3e4929ff4e13ebb06fa3ce8834e946b1678993b742b66314715d0b54b7a418da"
   }
  }
 },
 "nbformat": 4,
 "nbformat_minor": 2
}
